{
 "cells": [
  {
   "cell_type": "code",
   "execution_count": 128,
   "id": "f51aeba5",
   "metadata": {},
   "outputs": [],
   "source": [
    "import pandas as pd\n",
    "import numpy as np\n",
    "import seaborn as sns"
   ]
  },
  {
   "cell_type": "markdown",
   "id": "99130f5e",
   "metadata": {},
   "source": [
    "# CARGA DE DATOS"
   ]
  },
  {
   "cell_type": "code",
   "execution_count": 163,
   "id": "3dd936f1",
   "metadata": {},
   "outputs": [],
   "source": [
    "bikes = pd.read_csv('../data/bike_buyers.csv')"
   ]
  },
  {
   "cell_type": "markdown",
   "id": "63b47b1f",
   "metadata": {},
   "source": [
    "# INSPECCIÓN DE DATOS"
   ]
  },
  {
   "cell_type": "code",
   "execution_count": 165,
   "id": "b392327e",
   "metadata": {},
   "outputs": [
    {
     "data": {
      "text/html": [
       "<div>\n",
       "<style scoped>\n",
       "    .dataframe tbody tr th:only-of-type {\n",
       "        vertical-align: middle;\n",
       "    }\n",
       "\n",
       "    .dataframe tbody tr th {\n",
       "        vertical-align: top;\n",
       "    }\n",
       "\n",
       "    .dataframe thead th {\n",
       "        text-align: right;\n",
       "    }\n",
       "</style>\n",
       "<table border=\"1\" class=\"dataframe\">\n",
       "  <thead>\n",
       "    <tr style=\"text-align: right;\">\n",
       "      <th></th>\n",
       "      <th>ID</th>\n",
       "      <th>Marital Status</th>\n",
       "      <th>Gender</th>\n",
       "      <th>Income</th>\n",
       "      <th>Children</th>\n",
       "      <th>Education</th>\n",
       "      <th>Occupation</th>\n",
       "      <th>Home Owner</th>\n",
       "      <th>Cars</th>\n",
       "      <th>Commute Distance</th>\n",
       "      <th>Region</th>\n",
       "      <th>Age</th>\n",
       "      <th>Purchased Bike</th>\n",
       "    </tr>\n",
       "  </thead>\n",
       "  <tbody>\n",
       "    <tr>\n",
       "      <th>0</th>\n",
       "      <td>12496</td>\n",
       "      <td>Married</td>\n",
       "      <td>Female</td>\n",
       "      <td>40000.0</td>\n",
       "      <td>1.0</td>\n",
       "      <td>Bachelors</td>\n",
       "      <td>Skilled Manual</td>\n",
       "      <td>Yes</td>\n",
       "      <td>0.0</td>\n",
       "      <td>0-1 Miles</td>\n",
       "      <td>Europe</td>\n",
       "      <td>42.0</td>\n",
       "      <td>No</td>\n",
       "    </tr>\n",
       "    <tr>\n",
       "      <th>1</th>\n",
       "      <td>24107</td>\n",
       "      <td>Married</td>\n",
       "      <td>Male</td>\n",
       "      <td>30000.0</td>\n",
       "      <td>3.0</td>\n",
       "      <td>Partial College</td>\n",
       "      <td>Clerical</td>\n",
       "      <td>Yes</td>\n",
       "      <td>1.0</td>\n",
       "      <td>0-1 Miles</td>\n",
       "      <td>Europe</td>\n",
       "      <td>43.0</td>\n",
       "      <td>No</td>\n",
       "    </tr>\n",
       "    <tr>\n",
       "      <th>2</th>\n",
       "      <td>14177</td>\n",
       "      <td>Married</td>\n",
       "      <td>Male</td>\n",
       "      <td>80000.0</td>\n",
       "      <td>5.0</td>\n",
       "      <td>Partial College</td>\n",
       "      <td>Professional</td>\n",
       "      <td>No</td>\n",
       "      <td>2.0</td>\n",
       "      <td>2-5 Miles</td>\n",
       "      <td>Europe</td>\n",
       "      <td>60.0</td>\n",
       "      <td>No</td>\n",
       "    </tr>\n",
       "    <tr>\n",
       "      <th>3</th>\n",
       "      <td>24381</td>\n",
       "      <td>Single</td>\n",
       "      <td>NaN</td>\n",
       "      <td>70000.0</td>\n",
       "      <td>0.0</td>\n",
       "      <td>Bachelors</td>\n",
       "      <td>Professional</td>\n",
       "      <td>Yes</td>\n",
       "      <td>1.0</td>\n",
       "      <td>5-10 Miles</td>\n",
       "      <td>Pacific</td>\n",
       "      <td>41.0</td>\n",
       "      <td>Yes</td>\n",
       "    </tr>\n",
       "    <tr>\n",
       "      <th>4</th>\n",
       "      <td>25597</td>\n",
       "      <td>Single</td>\n",
       "      <td>Male</td>\n",
       "      <td>30000.0</td>\n",
       "      <td>0.0</td>\n",
       "      <td>Bachelors</td>\n",
       "      <td>Clerical</td>\n",
       "      <td>No</td>\n",
       "      <td>0.0</td>\n",
       "      <td>0-1 Miles</td>\n",
       "      <td>Europe</td>\n",
       "      <td>36.0</td>\n",
       "      <td>Yes</td>\n",
       "    </tr>\n",
       "  </tbody>\n",
       "</table>\n",
       "</div>"
      ],
      "text/plain": [
       "      ID Marital Status  Gender   Income  Children        Education  \\\n",
       "0  12496        Married  Female  40000.0       1.0        Bachelors   \n",
       "1  24107        Married    Male  30000.0       3.0  Partial College   \n",
       "2  14177        Married    Male  80000.0       5.0  Partial College   \n",
       "3  24381         Single     NaN  70000.0       0.0        Bachelors   \n",
       "4  25597         Single    Male  30000.0       0.0        Bachelors   \n",
       "\n",
       "       Occupation Home Owner  Cars Commute Distance   Region   Age  \\\n",
       "0  Skilled Manual        Yes   0.0        0-1 Miles   Europe  42.0   \n",
       "1        Clerical        Yes   1.0        0-1 Miles   Europe  43.0   \n",
       "2    Professional         No   2.0        2-5 Miles   Europe  60.0   \n",
       "3    Professional        Yes   1.0       5-10 Miles  Pacific  41.0   \n",
       "4        Clerical         No   0.0        0-1 Miles   Europe  36.0   \n",
       "\n",
       "  Purchased Bike  \n",
       "0             No  \n",
       "1             No  \n",
       "2             No  \n",
       "3            Yes  \n",
       "4            Yes  "
      ]
     },
     "execution_count": 165,
     "metadata": {},
     "output_type": "execute_result"
    }
   ],
   "source": [
    "bikes.head()"
   ]
  },
  {
   "cell_type": "code",
   "execution_count": 166,
   "id": "c05fe551",
   "metadata": {},
   "outputs": [
    {
     "data": {
      "text/plain": [
       "1000"
      ]
     },
     "execution_count": 166,
     "metadata": {},
     "output_type": "execute_result"
    }
   ],
   "source": [
    "bikes['ID'].nunique()"
   ]
  },
  {
   "cell_type": "markdown",
   "id": "c6b51f0d",
   "metadata": {},
   "source": [
    "**SE VALIDÓ QUE TODO LOS ID's SON ÚNICOS PARA ESTABLECERLO COMO INDICES EN EL DATAFRAME**"
   ]
  },
  {
   "cell_type": "code",
   "execution_count": 132,
   "id": "6d175983",
   "metadata": {},
   "outputs": [],
   "source": [
    "bikes.set_index('ID',inplace=True)"
   ]
  },
  {
   "cell_type": "code",
   "execution_count": 133,
   "id": "122f989d",
   "metadata": {},
   "outputs": [
    {
     "data": {
      "text/html": [
       "<div>\n",
       "<style scoped>\n",
       "    .dataframe tbody tr th:only-of-type {\n",
       "        vertical-align: middle;\n",
       "    }\n",
       "\n",
       "    .dataframe tbody tr th {\n",
       "        vertical-align: top;\n",
       "    }\n",
       "\n",
       "    .dataframe thead th {\n",
       "        text-align: right;\n",
       "    }\n",
       "</style>\n",
       "<table border=\"1\" class=\"dataframe\">\n",
       "  <thead>\n",
       "    <tr style=\"text-align: right;\">\n",
       "      <th></th>\n",
       "      <th>Marital Status</th>\n",
       "      <th>Gender</th>\n",
       "      <th>Income</th>\n",
       "      <th>Children</th>\n",
       "      <th>Education</th>\n",
       "      <th>Occupation</th>\n",
       "      <th>Home Owner</th>\n",
       "      <th>Cars</th>\n",
       "      <th>Commute Distance</th>\n",
       "      <th>Region</th>\n",
       "      <th>Age</th>\n",
       "      <th>Purchased Bike</th>\n",
       "    </tr>\n",
       "    <tr>\n",
       "      <th>ID</th>\n",
       "      <th></th>\n",
       "      <th></th>\n",
       "      <th></th>\n",
       "      <th></th>\n",
       "      <th></th>\n",
       "      <th></th>\n",
       "      <th></th>\n",
       "      <th></th>\n",
       "      <th></th>\n",
       "      <th></th>\n",
       "      <th></th>\n",
       "      <th></th>\n",
       "    </tr>\n",
       "  </thead>\n",
       "  <tbody>\n",
       "    <tr>\n",
       "      <th>12496</th>\n",
       "      <td>Married</td>\n",
       "      <td>Female</td>\n",
       "      <td>40000.0</td>\n",
       "      <td>1.0</td>\n",
       "      <td>Bachelors</td>\n",
       "      <td>Skilled Manual</td>\n",
       "      <td>Yes</td>\n",
       "      <td>0.0</td>\n",
       "      <td>0-1 Miles</td>\n",
       "      <td>Europe</td>\n",
       "      <td>42.0</td>\n",
       "      <td>No</td>\n",
       "    </tr>\n",
       "    <tr>\n",
       "      <th>24107</th>\n",
       "      <td>Married</td>\n",
       "      <td>Male</td>\n",
       "      <td>30000.0</td>\n",
       "      <td>3.0</td>\n",
       "      <td>Partial College</td>\n",
       "      <td>Clerical</td>\n",
       "      <td>Yes</td>\n",
       "      <td>1.0</td>\n",
       "      <td>0-1 Miles</td>\n",
       "      <td>Europe</td>\n",
       "      <td>43.0</td>\n",
       "      <td>No</td>\n",
       "    </tr>\n",
       "    <tr>\n",
       "      <th>14177</th>\n",
       "      <td>Married</td>\n",
       "      <td>Male</td>\n",
       "      <td>80000.0</td>\n",
       "      <td>5.0</td>\n",
       "      <td>Partial College</td>\n",
       "      <td>Professional</td>\n",
       "      <td>No</td>\n",
       "      <td>2.0</td>\n",
       "      <td>2-5 Miles</td>\n",
       "      <td>Europe</td>\n",
       "      <td>60.0</td>\n",
       "      <td>No</td>\n",
       "    </tr>\n",
       "    <tr>\n",
       "      <th>24381</th>\n",
       "      <td>Single</td>\n",
       "      <td>NaN</td>\n",
       "      <td>70000.0</td>\n",
       "      <td>0.0</td>\n",
       "      <td>Bachelors</td>\n",
       "      <td>Professional</td>\n",
       "      <td>Yes</td>\n",
       "      <td>1.0</td>\n",
       "      <td>5-10 Miles</td>\n",
       "      <td>Pacific</td>\n",
       "      <td>41.0</td>\n",
       "      <td>Yes</td>\n",
       "    </tr>\n",
       "    <tr>\n",
       "      <th>25597</th>\n",
       "      <td>Single</td>\n",
       "      <td>Male</td>\n",
       "      <td>30000.0</td>\n",
       "      <td>0.0</td>\n",
       "      <td>Bachelors</td>\n",
       "      <td>Clerical</td>\n",
       "      <td>No</td>\n",
       "      <td>0.0</td>\n",
       "      <td>0-1 Miles</td>\n",
       "      <td>Europe</td>\n",
       "      <td>36.0</td>\n",
       "      <td>Yes</td>\n",
       "    </tr>\n",
       "  </tbody>\n",
       "</table>\n",
       "</div>"
      ],
      "text/plain": [
       "      Marital Status  Gender   Income  Children        Education  \\\n",
       "ID                                                                 \n",
       "12496        Married  Female  40000.0       1.0        Bachelors   \n",
       "24107        Married    Male  30000.0       3.0  Partial College   \n",
       "14177        Married    Male  80000.0       5.0  Partial College   \n",
       "24381         Single     NaN  70000.0       0.0        Bachelors   \n",
       "25597         Single    Male  30000.0       0.0        Bachelors   \n",
       "\n",
       "           Occupation Home Owner  Cars Commute Distance   Region   Age  \\\n",
       "ID                                                                       \n",
       "12496  Skilled Manual        Yes   0.0        0-1 Miles   Europe  42.0   \n",
       "24107        Clerical        Yes   1.0        0-1 Miles   Europe  43.0   \n",
       "14177    Professional         No   2.0        2-5 Miles   Europe  60.0   \n",
       "24381    Professional        Yes   1.0       5-10 Miles  Pacific  41.0   \n",
       "25597        Clerical         No   0.0        0-1 Miles   Europe  36.0   \n",
       "\n",
       "      Purchased Bike  \n",
       "ID                    \n",
       "12496             No  \n",
       "24107             No  \n",
       "14177             No  \n",
       "24381            Yes  \n",
       "25597            Yes  "
      ]
     },
     "execution_count": 133,
     "metadata": {},
     "output_type": "execute_result"
    }
   ],
   "source": [
    "bikes.head()"
   ]
  },
  {
   "cell_type": "code",
   "execution_count": 134,
   "id": "19ea6379",
   "metadata": {},
   "outputs": [
    {
     "name": "stdout",
     "output_type": "stream",
     "text": [
      "<class 'pandas.core.frame.DataFrame'>\n",
      "Int64Index: 1000 entries, 12496 to 12121\n",
      "Data columns (total 12 columns):\n",
      " #   Column            Non-Null Count  Dtype  \n",
      "---  ------            --------------  -----  \n",
      " 0   Marital Status    993 non-null    object \n",
      " 1   Gender            989 non-null    object \n",
      " 2   Income            994 non-null    float64\n",
      " 3   Children          992 non-null    float64\n",
      " 4   Education         1000 non-null   object \n",
      " 5   Occupation        1000 non-null   object \n",
      " 6   Home Owner        996 non-null    object \n",
      " 7   Cars              991 non-null    float64\n",
      " 8   Commute Distance  1000 non-null   object \n",
      " 9   Region            1000 non-null   object \n",
      " 10  Age               992 non-null    float64\n",
      " 11  Purchased Bike    1000 non-null   object \n",
      "dtypes: float64(4), object(8)\n",
      "memory usage: 101.6+ KB\n"
     ]
    }
   ],
   "source": [
    "bikes.info()"
   ]
  },
  {
   "cell_type": "markdown",
   "id": "814efe90",
   "metadata": {},
   "source": [
    "**SE IDENTIFICAN DATOS NULOS EN LAS SIGUIENTES VARIABLES: *MARITAL STATUS*, *GENDER*, *INCOME*, *CHILDREN*, *HOME OWNER*, *CATS AGE***"
   ]
  },
  {
   "cell_type": "code",
   "execution_count": 135,
   "id": "bbfa8546",
   "metadata": {},
   "outputs": [
    {
     "data": {
      "text/html": [
       "<div>\n",
       "<style scoped>\n",
       "    .dataframe tbody tr th:only-of-type {\n",
       "        vertical-align: middle;\n",
       "    }\n",
       "\n",
       "    .dataframe tbody tr th {\n",
       "        vertical-align: top;\n",
       "    }\n",
       "\n",
       "    .dataframe thead th {\n",
       "        text-align: right;\n",
       "    }\n",
       "</style>\n",
       "<table border=\"1\" class=\"dataframe\">\n",
       "  <thead>\n",
       "    <tr style=\"text-align: right;\">\n",
       "      <th></th>\n",
       "      <th>count</th>\n",
       "      <th>mean</th>\n",
       "      <th>std</th>\n",
       "      <th>min</th>\n",
       "      <th>25%</th>\n",
       "      <th>50%</th>\n",
       "      <th>75%</th>\n",
       "      <th>max</th>\n",
       "    </tr>\n",
       "  </thead>\n",
       "  <tbody>\n",
       "    <tr>\n",
       "      <th>Income</th>\n",
       "      <td>994.0</td>\n",
       "      <td>56267.605634</td>\n",
       "      <td>31067.817462</td>\n",
       "      <td>10000.0</td>\n",
       "      <td>30000.0</td>\n",
       "      <td>60000.0</td>\n",
       "      <td>70000.0</td>\n",
       "      <td>170000.0</td>\n",
       "    </tr>\n",
       "    <tr>\n",
       "      <th>Children</th>\n",
       "      <td>992.0</td>\n",
       "      <td>1.910282</td>\n",
       "      <td>1.626910</td>\n",
       "      <td>0.0</td>\n",
       "      <td>0.0</td>\n",
       "      <td>2.0</td>\n",
       "      <td>3.0</td>\n",
       "      <td>5.0</td>\n",
       "    </tr>\n",
       "    <tr>\n",
       "      <th>Cars</th>\n",
       "      <td>991.0</td>\n",
       "      <td>1.455096</td>\n",
       "      <td>1.121755</td>\n",
       "      <td>0.0</td>\n",
       "      <td>1.0</td>\n",
       "      <td>1.0</td>\n",
       "      <td>2.0</td>\n",
       "      <td>4.0</td>\n",
       "    </tr>\n",
       "    <tr>\n",
       "      <th>Age</th>\n",
       "      <td>992.0</td>\n",
       "      <td>44.181452</td>\n",
       "      <td>11.362007</td>\n",
       "      <td>25.0</td>\n",
       "      <td>35.0</td>\n",
       "      <td>43.0</td>\n",
       "      <td>52.0</td>\n",
       "      <td>89.0</td>\n",
       "    </tr>\n",
       "  </tbody>\n",
       "</table>\n",
       "</div>"
      ],
      "text/plain": [
       "          count          mean           std      min      25%      50%  \\\n",
       "Income    994.0  56267.605634  31067.817462  10000.0  30000.0  60000.0   \n",
       "Children  992.0      1.910282      1.626910      0.0      0.0      2.0   \n",
       "Cars      991.0      1.455096      1.121755      0.0      1.0      1.0   \n",
       "Age       992.0     44.181452     11.362007     25.0     35.0     43.0   \n",
       "\n",
       "              75%       max  \n",
       "Income    70000.0  170000.0  \n",
       "Children      3.0       5.0  \n",
       "Cars          2.0       4.0  \n",
       "Age          52.0      89.0  "
      ]
     },
     "execution_count": 135,
     "metadata": {},
     "output_type": "execute_result"
    }
   ],
   "source": [
    "bikes.describe().transpose()"
   ]
  },
  {
   "cell_type": "markdown",
   "id": "ec896580",
   "metadata": {},
   "source": [
    "***TABLAS DE FRECUENCIA***"
   ]
  },
  {
   "cell_type": "code",
   "execution_count": 136,
   "id": "90f93a7a",
   "metadata": {},
   "outputs": [
    {
     "data": {
      "text/plain": [
       "0.0    274\n",
       "1.0    169\n",
       "2.0    209\n",
       "3.0    133\n",
       "4.0    126\n",
       "5.0     81\n",
       "NaN      8\n",
       "Name: Children, dtype: int64"
      ]
     },
     "execution_count": 136,
     "metadata": {},
     "output_type": "execute_result"
    }
   ],
   "source": [
    "bikes['Children'].value_counts(dropna=False).sort_index()"
   ]
  },
  {
   "cell_type": "code",
   "execution_count": 137,
   "id": "c1d684fa",
   "metadata": {},
   "outputs": [
    {
     "data": {
      "text/plain": [
       "0.0    238\n",
       "1.0    267\n",
       "2.0    342\n",
       "3.0     85\n",
       "4.0     59\n",
       "NaN      9\n",
       "Name: Cars, dtype: int64"
      ]
     },
     "execution_count": 137,
     "metadata": {},
     "output_type": "execute_result"
    }
   ],
   "source": [
    "bikes['Cars'].value_counts(dropna=False).sort_index()"
   ]
  },
  {
   "cell_type": "code",
   "execution_count": 138,
   "id": "52a886a6",
   "metadata": {},
   "outputs": [
    {
     "data": {
      "text/plain": [
       "Married    535\n",
       "Single     458\n",
       "NaN          7\n",
       "Name: Marital Status, dtype: int64"
      ]
     },
     "execution_count": 138,
     "metadata": {},
     "output_type": "execute_result"
    }
   ],
   "source": [
    "bikes['Marital Status'].value_counts(dropna=False)"
   ]
  },
  {
   "cell_type": "code",
   "execution_count": 139,
   "id": "51c489b1",
   "metadata": {},
   "outputs": [
    {
     "data": {
      "text/plain": [
       "Male      500\n",
       "Female    489\n",
       "NaN        11\n",
       "Name: Gender, dtype: int64"
      ]
     },
     "execution_count": 139,
     "metadata": {},
     "output_type": "execute_result"
    }
   ],
   "source": [
    "bikes['Gender'].value_counts(dropna=False)"
   ]
  },
  {
   "cell_type": "code",
   "execution_count": 140,
   "id": "d827a019",
   "metadata": {},
   "outputs": [
    {
     "data": {
      "text/plain": [
       "Bachelors              306\n",
       "Partial College        265\n",
       "High School            179\n",
       "Graduate Degree        174\n",
       "Partial High School     76\n",
       "Name: Education, dtype: int64"
      ]
     },
     "execution_count": 140,
     "metadata": {},
     "output_type": "execute_result"
    }
   ],
   "source": [
    "bikes['Education'].value_counts(dropna=False)"
   ]
  },
  {
   "cell_type": "code",
   "execution_count": 141,
   "id": "bdb3cce1",
   "metadata": {},
   "outputs": [
    {
     "data": {
      "text/plain": [
       "Professional      276\n",
       "Skilled Manual    255\n",
       "Clerical          177\n",
       "Management        173\n",
       "Manual            119\n",
       "Name: Occupation, dtype: int64"
      ]
     },
     "execution_count": 141,
     "metadata": {},
     "output_type": "execute_result"
    }
   ],
   "source": [
    "bikes['Occupation'].value_counts(dropna=False)"
   ]
  },
  {
   "cell_type": "code",
   "execution_count": 144,
   "id": "cbe4e23b",
   "metadata": {},
   "outputs": [
    {
     "data": {
      "text/plain": [
       "Yes    682\n",
       "No     314\n",
       "NaN      4\n",
       "Name: Home Owner, dtype: int64"
      ]
     },
     "execution_count": 144,
     "metadata": {},
     "output_type": "execute_result"
    }
   ],
   "source": [
    "bikes['Home Owner'].value_counts(dropna=False)"
   ]
  },
  {
   "cell_type": "code",
   "execution_count": 146,
   "id": "2beb906c",
   "metadata": {},
   "outputs": [
    {
     "data": {
      "text/plain": [
       "0-1 Miles     366\n",
       "5-10 Miles    192\n",
       "1-2 Miles     169\n",
       "2-5 Miles     162\n",
       "10+ Miles     111\n",
       "Name: Commute Distance, dtype: int64"
      ]
     },
     "execution_count": 146,
     "metadata": {},
     "output_type": "execute_result"
    }
   ],
   "source": [
    "bikes['Commute Distance'].value_counts(dropna=False)"
   ]
  },
  {
   "cell_type": "code",
   "execution_count": 149,
   "id": "6085a6f5",
   "metadata": {},
   "outputs": [
    {
     "data": {
      "text/plain": [
       "North America    508\n",
       "Europe           300\n",
       "Pacific          192\n",
       "Name: Region, dtype: int64"
      ]
     },
     "execution_count": 149,
     "metadata": {},
     "output_type": "execute_result"
    }
   ],
   "source": [
    "bikes['Region'].value_counts(dropna=False)"
   ]
  },
  {
   "cell_type": "code",
   "execution_count": 151,
   "id": "7b7fece1",
   "metadata": {},
   "outputs": [
    {
     "data": {
      "text/plain": [
       "No     519\n",
       "Yes    481\n",
       "Name: Purchased Bike, dtype: int64"
      ]
     },
     "execution_count": 151,
     "metadata": {},
     "output_type": "execute_result"
    }
   ],
   "source": [
    "bikes['Purchased Bike'].value_counts(dropna=False)"
   ]
  },
  {
   "cell_type": "code",
   "execution_count": 153,
   "id": "0059a72e",
   "metadata": {},
   "outputs": [
    {
     "data": {
      "text/plain": [
       "25.0     5\n",
       "26.0    16\n",
       "27.0    23\n",
       "28.0    22\n",
       "29.0    16\n",
       "30.0    26\n",
       "31.0    25\n",
       "32.0    33\n",
       "33.0    21\n",
       "34.0    31\n",
       "35.0    35\n",
       "36.0    37\n",
       "37.0    32\n",
       "38.0    37\n",
       "39.0    22\n",
       "40.0    40\n",
       "41.0    28\n",
       "42.0    34\n",
       "43.0    36\n",
       "44.0    27\n",
       "45.0    31\n",
       "46.0    27\n",
       "47.0    39\n",
       "48.0    29\n",
       "49.0    23\n",
       "50.0    23\n",
       "51.0    22\n",
       "52.0    25\n",
       "53.0    24\n",
       "54.0    16\n",
       "55.0    17\n",
       "56.0    16\n",
       "57.0     8\n",
       "58.0    12\n",
       "59.0    20\n",
       "60.0    14\n",
       "61.0     9\n",
       "62.0    13\n",
       "63.0     9\n",
       "64.0    10\n",
       "65.0     9\n",
       "66.0    14\n",
       "67.0    10\n",
       "68.0     3\n",
       "69.0     8\n",
       "70.0     4\n",
       "71.0     1\n",
       "72.0     1\n",
       "73.0     4\n",
       "74.0     1\n",
       "78.0     2\n",
       "80.0     1\n",
       "89.0     1\n",
       "NaN      8\n",
       "Name: Age, dtype: int64"
      ]
     },
     "execution_count": 153,
     "metadata": {},
     "output_type": "execute_result"
    }
   ],
   "source": [
    "bikes['Age'].value_counts(dropna=False).sort_index()"
   ]
  },
  {
   "cell_type": "markdown",
   "id": "bea3c7c1",
   "metadata": {},
   "source": [
    "***LIMPIEZA DE DATOS EN CHILDREN***"
   ]
  },
  {
   "cell_type": "code",
   "execution_count": 154,
   "id": "8e0697b4",
   "metadata": {},
   "outputs": [
    {
     "name": "stdout",
     "output_type": "stream",
     "text": [
      "True\n"
     ]
    }
   ],
   "source": [
    "#Validamos si todos los datos NO NULOS almacenados en la columna Children son enteros. A pesar del su tipo de dato\n",
    "Children_is_integer = np.isclose(bikes[bikes['Children'].isnull()==False]['Children'], bikes[bikes['Children'].isnull()==False]['Children'].astype(int)).all()\n",
    "print(Children_is_integer)"
   ]
  },
  {
   "cell_type": "code",
   "execution_count": 155,
   "id": "6c1c1b40",
   "metadata": {},
   "outputs": [],
   "source": [
    "#Reemplazamos los valores nulos en la columna Children por su mediana\n",
    "bikes['Children'].fillna(value = bikes['Children'].median(), inplace=True)"
   ]
  },
  {
   "cell_type": "markdown",
   "id": "aad9dd8c",
   "metadata": {},
   "source": [
    "***LIMPIEZA DE DATOS EN CARS***"
   ]
  },
  {
   "cell_type": "code",
   "execution_count": 156,
   "id": "380aff39",
   "metadata": {},
   "outputs": [
    {
     "name": "stdout",
     "output_type": "stream",
     "text": [
      "True\n"
     ]
    }
   ],
   "source": [
    "#Validamos si todos los datos NO NULOS almacenados en la columna Cars son enteros. A pesar del su tipo de dato\n",
    "Cars_is_integer = np.isclose(bikes[bikes['Cars'].isnull()==False]['Cars'], bikes[bikes['Cars'].isnull()==False]['Cars'].astype(int)).all()\n",
    "print(Cars_is_integer)"
   ]
  },
  {
   "cell_type": "code",
   "execution_count": 157,
   "id": "143fb3a5",
   "metadata": {},
   "outputs": [],
   "source": [
    "#Reemplazamos los valores nulos en la columna Cars por su mediana\n",
    "bikes['Cars'].fillna(value = bikes['Cars'].median(),inplace=True)"
   ]
  },
  {
   "cell_type": "markdown",
   "id": "978b6ce4",
   "metadata": {},
   "source": [
    "***LIMPIEZA DE DATOS AGE***"
   ]
  },
  {
   "cell_type": "code",
   "execution_count": 69,
   "id": "7b4bd36f",
   "metadata": {},
   "outputs": [
    {
     "name": "stdout",
     "output_type": "stream",
     "text": [
      "True\n"
     ]
    }
   ],
   "source": [
    "#Validamos si todos los datos NO NULOS almacenados en la columna Age son enteros. A pesar del su tipo de dato\n",
    "Age_is_integer = np.isclose(bikes[bikes['Age'].isnull()==False]['Age'], bikes[bikes['Age'].isnull()==False]['Age'].astype(int)).all()\n",
    "print(Age_is_integer)"
   ]
  },
  {
   "cell_type": "code",
   "execution_count": 160,
   "id": "9e5bdf3d",
   "metadata": {},
   "outputs": [],
   "source": [
    "bikes['Age'].fillna(value = bikes['Age'].median(), inplace=True)"
   ]
  },
  {
   "cell_type": "markdown",
   "id": "23f7a635",
   "metadata": {},
   "source": [
    "***LIMPIEZA DE DATOS INCOME***"
   ]
  },
  {
   "cell_type": "code",
   "execution_count": 158,
   "id": "cf82bb25",
   "metadata": {},
   "outputs": [
    {
     "name": "stdout",
     "output_type": "stream",
     "text": [
      "True\n"
     ]
    }
   ],
   "source": [
    "#Validamos si todos los datos NO NULOS almacenados en la columna Income son enteros. A pesar del su tipo de dato\n",
    "Income_is_integer = np.isclose(bikes[bikes['Income'].isnull()==False]['Income'], bikes[bikes['Income'].isnull()==False]['Income'].astype(int)).all()\n",
    "print(Income_is_integer)"
   ]
  },
  {
   "cell_type": "code",
   "execution_count": 161,
   "id": "a360a7ad",
   "metadata": {},
   "outputs": [
    {
     "name": "stdout",
     "output_type": "stream",
     "text": [
      "<class 'pandas.core.frame.DataFrame'>\n",
      "Int64Index: 1000 entries, 12496 to 12121\n",
      "Data columns (total 12 columns):\n",
      " #   Column            Non-Null Count  Dtype  \n",
      "---  ------            --------------  -----  \n",
      " 0   Marital Status    993 non-null    object \n",
      " 1   Gender            989 non-null    object \n",
      " 2   Income            994 non-null    float64\n",
      " 3   Children          1000 non-null   float64\n",
      " 4   Education         1000 non-null   object \n",
      " 5   Occupation        1000 non-null   object \n",
      " 6   Home Owner        996 non-null    object \n",
      " 7   Cars              1000 non-null   float64\n",
      " 8   Commute Distance  1000 non-null   object \n",
      " 9   Region            1000 non-null   object \n",
      " 10  Age               1000 non-null   float64\n",
      " 11  Purchased Bike    1000 non-null   object \n",
      "dtypes: float64(4), object(8)\n",
      "memory usage: 101.6+ KB\n"
     ]
    }
   ],
   "source": [
    "bikes.info()"
   ]
  },
  {
   "cell_type": "code",
   "execution_count": 72,
   "id": "4fa61835",
   "metadata": {},
   "outputs": [
    {
     "data": {
      "text/plain": [
       "<AxesSubplot: >"
      ]
     },
     "execution_count": 72,
     "metadata": {},
     "output_type": "execute_result"
    },
    {
     "data": {
      "image/png": "[encoded data removed]",
      "text/plain": [
       "<Figure size 640x480 with 1 Axes>"
      ]
     },
     "metadata": {},
     "output_type": "display_data"
    }
   ],
   "source": [
    "sns.boxplot(data=bikes, palette = 'rainbow', orient= 'h')"
   ]
  },
  {
   "cell_type": "code",
   "execution_count": 89,
   "id": "d6f2a5b4",
   "metadata": {},
   "outputs": [
    {
     "data": {
      "text/plain": [
       "Text(0, 0.5, 'Total de Niños')"
      ]
     },
     "execution_count": 89,
     "metadata": {},
     "output_type": "execute_result"
    },
    {
     "data": {
      "image/png": "[encoded data removed]",
      "text/plain": [
       "<Figure size 640x480 with 1 Axes>"
      ]
     },
     "metadata": {},
     "output_type": "display_data"
    }
   ],
   "source": [
    "sns.countplot(x='Children', data = bikes)\n",
    "plt.xlabel('Número de Niños')\n",
    "plt.ylabel('Total de Niños')"
   ]
  },
  {
   "cell_type": "code",
   "execution_count": 91,
   "id": "e2adb58c",
   "metadata": {},
   "outputs": [
    {
     "data": {
      "text/plain": [
       "2.0"
      ]
     },
     "execution_count": 91,
     "metadata": {},
     "output_type": "execute_result"
    }
   ],
   "source": [
    "bikes['Children'].median()"
   ]
  }
 ],
 "metadata": {
  "kernelspec": {
   "display_name": "Python 3 (ipykernel)",
   "language": "python",
   "name": "python3"
  },
  "language_info": {
   "codemirror_mode": {
    "name": "ipython",
    "version": 3
   },
   "file_extension": ".py",
   "mimetype": "text/x-python",
   "name": "python",
   "nbconvert_exporter": "python",
   "pygments_lexer": "ipython3",
   "version": "3.10.4"
  }
 },
 "nbformat": 4,
 "nbformat_minor": 5
}
